{
 "cells": [
  {
   "cell_type": "code",
   "execution_count": 1,
   "metadata": {
    "collapsed": true
   },
   "outputs": [],
   "source": [
    "import numpy as np\n",
    "import matplotlib.pyplot as plt\n",
    "from tfrbm import BBRBM,GBRBM\n",
    "from tensorflow.examples.tutorials.mnist import input_data\n"
   ]
  },
  {
   "cell_type": "code",
   "execution_count": 2,
   "metadata": {
    "collapsed": false
   },
   "outputs": [
    {
     "name": "stdout",
     "output_type": "stream",
     "text": [
      "Extracting MNIST_data/train-images-idx3-ubyte.gz\n",
      "Extracting MNIST_data/train-labels-idx1-ubyte.gz\n",
      "Extracting MNIST_data/t10k-images-idx3-ubyte.gz\n",
      "Extracting MNIST_data/t10k-labels-idx1-ubyte.gz\n"
     ]
    }
   ],
   "source": [
    "mnist = input_data.read_data_sets('MNIST_data/', one_hot=True)\n",
    "mnist_images = mnist.train.images"
   ]
  },
  {
   "cell_type": "code",
   "execution_count": 3,
   "metadata": {
    "collapsed": false
   },
   "outputs": [
    {
     "name": "stdout",
     "output_type": "stream",
     "text": [
      "WARNING:tensorflow:From /home/lym/anaconda3/lib/python3.5/site-packages/tfrbm/rbm.py:74 in __init__.: initialize_all_variables (from tensorflow.python.ops.variables) is deprecated and will be removed after 2017-03-02.\n",
      "Instructions for updating:\n",
      "Use `tf.global_variables_initializer` instead.\n"
     ]
    }
   ],
   "source": [
    "bbrbm = BBRBM(n_visible=784, n_hidden=64, learning_rate=0.01, momentum=0.95, tqdm='notebook')"
   ]
  },
  {
   "cell_type": "code",
   "execution_count": 4,
   "metadata": {
    "collapsed": false
   },
   "outputs": [
    {
     "name": "stdout",
     "output_type": "stream",
     "text": [
      "Epoch: 0, error: 0.1254\n",
      "Epoch: 1, error: 0.0845\n",
      "Epoch: 2, error: 0.0766\n",
      "Epoch: 3, error: 0.0701\n",
      "Epoch: 4, error: 0.0643\n",
      "Epoch: 5, error: 0.0594\n",
      "Epoch: 6, error: 0.0556\n",
      "Epoch: 7, error: 0.0527\n",
      "Epoch: 8, error: 0.0503\n",
      "Epoch: 9, error: 0.0483\n",
      "Epoch: 10, error: 0.0467\n",
      "Epoch: 11, error: 0.0453\n",
      "Epoch: 12, error: 0.0442\n",
      "Epoch: 13, error: 0.0432\n",
      "Epoch: 14, error: 0.0423\n",
      "Epoch: 15, error: 0.0415\n",
      "Epoch: 16, error: 0.0407\n",
      "Epoch: 17, error: 0.0400\n",
      "Epoch: 18, error: 0.0394\n",
      "Epoch: 19, error: 0.0388\n",
      "Epoch: 20, error: 0.0383\n",
      "Epoch: 21, error: 0.0378\n",
      "Epoch: 22, error: 0.0373\n",
      "Epoch: 23, error: 0.0368\n",
      "Epoch: 24, error: 0.0364\n",
      "Epoch: 25, error: 0.0360\n",
      "Epoch: 26, error: 0.0356\n",
      "Epoch: 27, error: 0.0353\n",
      "Epoch: 28, error: 0.0350\n",
      "Epoch: 29, error: 0.0346\n",
      "\n"
     ]
    }
   ],
   "source": [
    "errs = bbrbm.fit(mnist_images, n_epoches=30, batch_size=10)"
   ]
  },
  {
   "cell_type": "code",
   "execution_count": 5,
   "metadata": {
    "collapsed": true
   },
   "outputs": [],
   "source": [
    "plt.plot(errs)\n",
    "plt.show()"
   ]
  },
  {
   "cell_type": "code",
   "execution_count": 10,
   "metadata": {
    "collapsed": false
   },
   "outputs": [
    {
     "name": "stdout",
     "output_type": "stream",
     "text": [
      "(55000, 784)\n"
     ]
    }
   ],
   "source": [
    "print(mnist_images.shape)"
   ]
  },
  {
   "cell_type": "code",
   "execution_count": null,
   "metadata": {
    "collapsed": true
   },
   "outputs": [],
   "source": []
  }
 ],
 "metadata": {
  "anaconda-cloud": {},
  "kernelspec": {
   "display_name": "Python [Root]",
   "language": "python",
   "name": "Python [Root]"
  },
  "language_info": {
   "codemirror_mode": {
    "name": "ipython",
    "version": 3
   },
   "file_extension": ".py",
   "mimetype": "text/x-python",
   "name": "python",
   "nbconvert_exporter": "python",
   "pygments_lexer": "ipython3",
   "version": "3.5.2"
  }
 },
 "nbformat": 4,
 "nbformat_minor": 0
}
